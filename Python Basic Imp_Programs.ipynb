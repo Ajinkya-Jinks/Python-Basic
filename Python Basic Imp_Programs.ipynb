{
 "cells": [
  {
   "cell_type": "markdown",
   "metadata": {},
   "source": [
    "# 1) Armstrong Numbers"
   ]
  },
  {
   "cell_type": "raw",
   "metadata": {},
   "source": [
    "The number of n digit which are equal to nth power of its digit.\n",
    "\n",
    "e.g. 5\n",
    "1) here n i.e. number of digit in 5 is 1\n",
    "2) now nth power of digit i.e. in this example 1st power of 5 is 5. \n",
    "   Therefor 5 is armstrong number. The number from 1 to 9 are armstrong numbers\n",
    "\n",
    "e.g. 153\n",
    "1) here n i.e. number of digits in 153 is 3.\n",
    "2) now nth power of digit i.e. 3rd power of 1 + 3rd power of 5 + 3rd power of 3 = 1 + 125 + 9 = 153\n",
    "   Therefore 153 is armstrong number."
   ]
  },
  {
   "cell_type": "code",
   "execution_count": 59,
   "metadata": {},
   "outputs": [
    {
     "name": "stdout",
     "output_type": "stream",
     "text": [
      "0\n",
      "1\n",
      "2\n",
      "3\n",
      "4\n",
      "5\n",
      "6\n",
      "7\n",
      "8\n",
      "9\n",
      "153\n",
      "370\n",
      "371\n",
      "407\n"
     ]
    }
   ],
   "source": [
    "for i in range(0,1001):\n",
    "    num = i\n",
    "    result = 0\n",
    "    count = len(str(i))\n",
    "    while(i!=0):\n",
    "        digit = i%10\n",
    "        result = result + digit**count\n",
    "        i = i//10\n",
    "    if result == num:\n",
    "        print(num)"
   ]
  },
  {
   "cell_type": "markdown",
   "metadata": {},
   "source": [
    "# 2) Right Angle Traingle of Numbers"
   ]
  },
  {
   "cell_type": "code",
   "execution_count": 92,
   "metadata": {},
   "outputs": [
    {
     "name": "stdout",
     "output_type": "stream",
     "text": [
      "Enter the number of rows :: 10\n",
      "1\n",
      "12\n",
      "123\n",
      "1234\n",
      "12345\n",
      "123456\n",
      "1234567\n",
      "12345678\n",
      "123456789\n",
      "12345678910\n"
     ]
    }
   ],
   "source": [
    "num = eval(input(\"Enter the number of rows :: \"))\n",
    "for i in range(1,num+1):\n",
    "    for j in range(1,i+1):\n",
    "        print(j,end=\"\")\n",
    "    print()\n",
    "        "
   ]
  },
  {
   "cell_type": "code",
   "execution_count": 65,
   "metadata": {},
   "outputs": [
    {
     "name": "stdout",
     "output_type": "stream",
     "text": [
      "Enter the number of rows :: 5\n",
      "1\n",
      "22\n",
      "333\n",
      "4444\n",
      "55555\n"
     ]
    }
   ],
   "source": [
    "num = eval(input(\"Enter the number of rows :: \"))\n",
    "for i in range(1,num+1):\n",
    "    for j in range(1,i+1):\n",
    "        print(i,end=\"\")\n",
    "    print()\n",
    "        "
   ]
  },
  {
   "cell_type": "markdown",
   "metadata": {},
   "source": [
    "# 3) Star Pattern Program"
   ]
  },
  {
   "cell_type": "code",
   "execution_count": 71,
   "metadata": {},
   "outputs": [
    {
     "name": "stdout",
     "output_type": "stream",
     "text": [
      "Enter the number of rows :: 5\n",
      "*\n",
      "**\n",
      "***\n",
      "****\n",
      "*****\n"
     ]
    }
   ],
   "source": [
    "num = eval(input(\"Enter the number of rows :: \"))\n",
    "for i in range(1,num+1):\n",
    "    for j in range(1,i+1):\n",
    "        print(\"*\",end=\"\")\n",
    "    print()"
   ]
  },
  {
   "cell_type": "markdown",
   "metadata": {},
   "source": [
    "# 4) Hollow Star Pattern Program"
   ]
  },
  {
   "cell_type": "code",
   "execution_count": 90,
   "metadata": {},
   "outputs": [
    {
     "name": "stdout",
     "output_type": "stream",
     "text": [
      "Enter the number of rows :: 10\n",
      "*         \n",
      "**        \n",
      "* *       \n",
      "*  *      \n",
      "*   *     \n",
      "*    *    \n",
      "*     *   \n",
      "*      *  \n",
      "*       * \n",
      "**********\n"
     ]
    }
   ],
   "source": [
    "num = eval(input(\"Enter the number of rows :: \"))\n",
    "for row in range(num):\n",
    "    for col in range(num):\n",
    "        if col==0 or row==num-1 or  row==col:\n",
    "            print(\"*\",end=\"\")\n",
    "        else:\n",
    "            print(end=\" \")\n",
    "    print()"
   ]
  },
  {
   "cell_type": "code",
   "execution_count": 113,
   "metadata": {},
   "outputs": [
    {
     "name": "stdout",
     "output_type": "stream",
     "text": [
      "Enter the number of rows :: 8\n",
      "********\n",
      " *     *\n",
      "  *    *\n",
      "   *   *\n",
      "    *  *\n",
      "     * *\n",
      "      **\n",
      "       *\n"
     ]
    }
   ],
   "source": [
    "num = eval(input(\"Enter the number of rows :: \"))\n",
    "for row in range(num):\n",
    "    for col in range(num):\n",
    "        if row==0 or row==col or col==num-1:\n",
    "            print(\"*\",end=\"\")\n",
    "        else:\n",
    "            print(end=\" \")\n",
    "    print()"
   ]
  },
  {
   "cell_type": "code",
   "execution_count": 149,
   "metadata": {},
   "outputs": [
    {
     "name": "stdout",
     "output_type": "stream",
     "text": [
      "   *   \n",
      "  * *  \n",
      " *   * \n",
      "*******\n"
     ]
    }
   ],
   "source": [
    "for row in range(1,5):\n",
    "    for col in range(1,8):\n",
    "        if row==4 or row+col==5 or col-row==3:\n",
    "            print(\"*\",end=\"\")\n",
    "        else:\n",
    "            print(end=\" \")\n",
    "    print()\n",
    "    "
   ]
  },
  {
   "cell_type": "code",
   "execution_count": 155,
   "metadata": {},
   "outputs": [
    {
     "name": "stdout",
     "output_type": "stream",
     "text": [
      "Enter the number of rows::7\n",
      "      *      \n",
      "     * *     \n",
      "    *   *    \n",
      "   *     *   \n",
      "  *       *  \n",
      " *         * \n",
      "*************\n"
     ]
    }
   ],
   "source": [
    "#Generalizing above program\n",
    "num = int(input(\"Enter the number of rows::\"))\n",
    "for row in range(1,num+1):\n",
    "    for col in range(1,num*2):\n",
    "        if row==num or row+col==num+1 or col-row==num-1:\n",
    "            print(\"*\",end=\"\")\n",
    "        else:\n",
    "            print(end=\" \")\n",
    "    else:\n",
    "        print()    "
   ]
  },
  {
   "cell_type": "markdown",
   "metadata": {},
   "source": [
    "# 5) Finding Factorial of Non-negative Numbers"
   ]
  },
  {
   "cell_type": "raw",
   "metadata": {},
   "source": [
    "Three approaches to write factorial program\n",
    "1) Using math library and factorial function directly\n",
    "2) Using Recursion\n",
    "3) Using Iterative Method"
   ]
  },
  {
   "cell_type": "code",
   "execution_count": 101,
   "metadata": {},
   "outputs": [
    {
     "name": "stdout",
     "output_type": "stream",
     "text": [
      "Enter the number :: 6\n",
      "The factorial of 6 is 720\n"
     ]
    }
   ],
   "source": [
    "#import math\n",
    "from math import factorial\n",
    "num = eval(input(\"Enter the number :: \"))\n",
    "fact = factorial(num)\n",
    "print(\"The factorial of\",num,\"is\",fact)\n"
   ]
  },
  {
   "cell_type": "raw",
   "metadata": {},
   "source": [
    "2) Using Recursve function i.e. function calling itself\n",
    "   Base case :: num == 0\n",
    "   Recursive Case :: num*fact(num-1)"
   ]
  },
  {
   "cell_type": "code",
   "execution_count": 105,
   "metadata": {},
   "outputs": [
    {
     "name": "stdout",
     "output_type": "stream",
     "text": [
      "Enter the num :5\n",
      "Factorial of 5 is 120\n"
     ]
    }
   ],
   "source": [
    "def fact(num):\n",
    "    if num == 0:\n",
    "        return 1\n",
    "    else:\n",
    "        return num*fact(num-1)\n",
    "\n",
    "num = eval(input(\"Enter the num :\"))\n",
    "result = fact(num)\n",
    "\n",
    "print(\"Factorial of\",num,\"is\",result)"
   ]
  },
  {
   "cell_type": "raw",
   "metadata": {},
   "source": [
    "3) Using iterative process i.e. using loops"
   ]
  },
  {
   "cell_type": "code",
   "execution_count": 109,
   "metadata": {},
   "outputs": [
    {
     "name": "stdout",
     "output_type": "stream",
     "text": [
      "Enter the number :: 0\n",
      "The factorial of 0 is 1\n"
     ]
    }
   ],
   "source": [
    "fact =1\n",
    "num = eval(input(\"Enter the number :: \"))\n",
    "for i in range(1,num+1):\n",
    "    fact = i*fact\n",
    "print(\"The factorial of\",num,\"is\",fact)"
   ]
  },
  {
   "cell_type": "markdown",
   "metadata": {},
   "source": [
    "# 6) Fibonacci Series"
   ]
  },
  {
   "cell_type": "code",
   "execution_count": 116,
   "metadata": {},
   "outputs": [
    {
     "name": "stdout",
     "output_type": "stream",
     "text": [
      "How many values do you want in to display in Fibonacci Series :: 10\n",
      "0\n",
      "1\n",
      "1\n",
      "2\n",
      "3\n",
      "5\n",
      "8\n",
      "13\n",
      "21\n",
      "34\n"
     ]
    }
   ],
   "source": [
    "num = eval(input(\"How many values do you want in to display in Fibonacci Series :: \"))\n",
    "first = 0\n",
    "second = 1\n",
    "for i in range(num):\n",
    "    print(first)\n",
    "    temp = first\n",
    "    first = second\n",
    "    second = temp + second "
   ]
  },
  {
   "cell_type": "markdown",
   "metadata": {},
   "source": [
    "# 7) Printing Prime Numbers"
   ]
  },
  {
   "cell_type": "code",
   "execution_count": 132,
   "metadata": {},
   "outputs": [
    {
     "name": "stdout",
     "output_type": "stream",
     "text": [
      "Enter the lower interval :: 1\n",
      "Enter the upper interval :: 20\n",
      "2\n",
      "3\n",
      "5\n",
      "7\n",
      "11\n",
      "13\n",
      "17\n",
      "19\n"
     ]
    }
   ],
   "source": [
    "lower = eval(input(\"Enter the lower interval :: \"))\n",
    "upper = eval(input(\"Enter the upper interval :: \"))\n",
    "for i in range(lower,upper+1):\n",
    "    if i>1:\n",
    "        for j  in range(2,i):\n",
    "            if i%j==0:\n",
    "                break\n",
    "        else:\n",
    "            print(i)"
   ]
  },
  {
   "cell_type": "markdown",
   "metadata": {},
   "source": [
    "# 8) Checkting whether the entered number is prime or not"
   ]
  },
  {
   "cell_type": "code",
   "execution_count": 142,
   "metadata": {},
   "outputs": [
    {
     "name": "stdout",
     "output_type": "stream",
     "text": [
      "Enter the number to check prime or not :: 7\n",
      "The entered number is a PRIME NUMBER\n"
     ]
    }
   ],
   "source": [
    "num = int(input(\"Enter the number to check prime or not :: \"))\n",
    "if num>1:\n",
    "    for i in range(2,num):\n",
    "        if num%i == 0:\n",
    "            print(\"The entered number is NOT a Prime Number\")\n",
    "            break\n",
    "    else:\n",
    "        print(\"The entered number is a PRIME NUMBER\")\n",
    "            \n",
    "                      "
   ]
  },
  {
   "cell_type": "markdown",
   "metadata": {},
   "source": [
    "# 9) Reverse String"
   ]
  },
  {
   "cell_type": "code",
   "execution_count": 157,
   "metadata": {},
   "outputs": [
    {
     "name": "stdout",
     "output_type": "stream",
     "text": [
      "Enter a string :: Pund\n",
      "dnuP \n"
     ]
    }
   ],
   "source": [
    "def reverse(string):\n",
    "    reversed_string = \" \"\n",
    "    for i in string:\n",
    "        reversed_string = i+reversed_string\n",
    "    print(reversed_string)\n",
    "\n",
    "string = input(\"Enter a string :: \")\n",
    "reverse(string)\n"
   ]
  },
  {
   "cell_type": "markdown",
   "metadata": {},
   "source": [
    "# 10) Plindrome Program"
   ]
  },
  {
   "cell_type": "raw",
   "metadata": {},
   "source": [
    "Three Steps:\n",
    "    1) Input String\n",
    "    2) Reverse the string\n",
    "    3) check i/p string == reversed string"
   ]
  },
  {
   "cell_type": "raw",
   "metadata": {},
   "source": [
    "String"
   ]
  },
  {
   "cell_type": "code",
   "execution_count": 23,
   "metadata": {},
   "outputs": [
    {
     "name": "stdout",
     "output_type": "stream",
     "text": [
      "Input the string to check palindrome :: madam\n",
      "Reversed string is :: madam\n",
      "The entered string is a Palindrome\n"
     ]
    }
   ],
   "source": [
    "string = input(\"Input the string to check palindrome :: \")\n",
    "revr_str = string[::-1]\n",
    "print(\"Reversed string is ::\",revr_str)\n",
    "\n",
    "if string  == revr_str:\n",
    "    print(\"The entered string is a Palindrome\")\n",
    "else:\n",
    "    print(\"The entered string is NOT a palindrome\")"
   ]
  },
  {
   "cell_type": "raw",
   "metadata": {},
   "source": [
    "Number"
   ]
  },
  {
   "cell_type": "code",
   "execution_count": 26,
   "metadata": {},
   "outputs": [
    {
     "name": "stdout",
     "output_type": "stream",
     "text": [
      "Enter a number to check palindrome::123\n",
      "The entered number is NOT a palindrome\n"
     ]
    }
   ],
   "source": [
    "num = int(input(\"Enter a number to check palindrome::\"))\n",
    "string = str(num)\n",
    "reversed_num = string[::-1]\n",
    "if string == reversed_num:\n",
    "    print(\"The entered number is a Palindrome\")\n",
    "else:\n",
    "    print(\"The entered number is NOT a palindrome\")\n"
   ]
  },
  {
   "cell_type": "markdown",
   "metadata": {},
   "source": [
    "# 11) Leap Year Program"
   ]
  },
  {
   "cell_type": "code",
   "execution_count": 33,
   "metadata": {},
   "outputs": [
    {
     "name": "stdout",
     "output_type": "stream",
     "text": [
      "Enter the year to check leap or not ::1700\n",
      "The year 1700 is NOT a leap year\n"
     ]
    }
   ],
   "source": [
    "year = int(input(\"Enter the year to check leap or not ::\"))\n",
    "if year%4==0 and year%100!=0 or year%400==0:\n",
    "    print(\"The year\",year,\"is a leap year\")\n",
    "else:\n",
    "    print(\"The year\",year,\"is NOT a leap year\")"
   ]
  },
  {
   "cell_type": "code",
   "execution_count": null,
   "metadata": {},
   "outputs": [],
   "source": []
  },
  {
   "cell_type": "code",
   "execution_count": null,
   "metadata": {},
   "outputs": [],
   "source": []
  },
  {
   "cell_type": "code",
   "execution_count": null,
   "metadata": {},
   "outputs": [],
   "source": []
  },
  {
   "cell_type": "code",
   "execution_count": null,
   "metadata": {},
   "outputs": [],
   "source": []
  }
 ],
 "metadata": {
  "kernelspec": {
   "display_name": "Python 3",
   "language": "python",
   "name": "python3"
  },
  "language_info": {
   "codemirror_mode": {
    "name": "ipython",
    "version": 3
   },
   "file_extension": ".py",
   "mimetype": "text/x-python",
   "name": "python",
   "nbconvert_exporter": "python",
   "pygments_lexer": "ipython3",
   "version": "3.7.4"
  }
 },
 "nbformat": 4,
 "nbformat_minor": 2
}
